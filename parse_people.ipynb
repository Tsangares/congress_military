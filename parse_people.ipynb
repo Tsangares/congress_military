{
 "cells": [
  {
   "cell_type": "code",
   "execution_count": 10,
   "metadata": {},
   "outputs": [],
   "source": [
    "import os\n",
    "from bs4 import BeautifulSoup\n",
    "import bs4\n",
    "import numpy as np\n",
    "import requests,json,time,random,logging,math\n",
    "import pandas as pd\n",
    "import logging\n",
    "logging.basicConfig(level=logging.INFO)"
   ]
  },
  {
   "cell_type": "code",
   "execution_count": 11,
   "metadata": {},
   "outputs": [],
   "source": [
    "with open('dist/directory.json') as f:\n",
    "    directory = json.load(f)"
   ]
  },
  {
   "cell_type": "code",
   "execution_count": 12,
   "metadata": {},
   "outputs": [
    {
     "name": "stderr",
     "output_type": "stream",
     "text": [
      "ERROR:root:Missing Document 34 - Alexander, Rodney (pia113-Alexander_Rodney) file(people_html/pia113-Alexander_Rodney.html)\n",
      "ERROR:root:Missing Document 35 - Alexander, Rodney (pia113-Alexander_Rodney) file(people_html/pia113-Alexander_Rodney.html)\n",
      "ERROR:root:Missing Document 280 - Bishop, Timothy H. (pia113-Bishop_Timothy_H.) file(people_html/pia113-Bishop_Timothy_H..html)\n",
      "ERROR:root:Missing Document 374 - Breaux, John B. (pia108-669522) file(people_html/pia108-669522.html)\n",
      "ERROR:root:Missing Document 375 - Breaux, John B. (pia108-669522) file(people_html/pia108-669522.html)\n",
      "ERROR:root:Missing Document 858 - D'Amours, Norman E. (bdac96-0453054588) file(people_html/bdac96-0453054588.html)\n",
      "ERROR:root:Missing Document 865 - Danielson, George Elmore (bdac96-0453054591) file(people_html/bdac96-0453054591.html)\n",
      "ERROR:root:Missing Document 910 - Delahunt, William D. (Bill) (pia111-Delahunt-Bill) file(people_html/pia111-Delahunt-Bill.html)\n",
      "ERROR:root:Missing Document 960 - Dingell, John David, Jr. (pia113-Dingell_John_D.) file(people_html/pia113-Dingell_John_D..html)\n",
      "ERROR:root:Missing Document 1183 - Fitzpatrick, Michael G. (pia114-1773-97706-2706787) file(people_html/pia114-1773-97706-2706787.html)\n",
      "ERROR:root:Missing Document 1276 - Gallego, Pete (pia113-Gallego_Pete) file(people_html/pia113-Gallego_Pete.html)\n",
      "ERROR:root:Missing Document 1285 - Garcia, Jesus (Chuy) (pia116-Garcia-Jesus) file(people_html/pia116-Garcia-Jesus.html)\n",
      "ERROR:root:Missing Document 1569 - Hastings, Richard (Doc) (pia113-Hastings_Doc) file(people_html/pia113-Hastings_Doc.html)\n",
      "ERROR:root:Missing Document 1778 - Inglis, Robert D. (pia-111-Inglis_Bob) file(people_html/pia-111-Inglis_Bob.html)\n",
      "ERROR:root:Missing Document 1867 - Johnson, Tim P. (Tim) (pia113-Johnson_Tim) file(people_html/pia113-Johnson_Tim.html)\n",
      "ERROR:root:Missing Document 1868 - Johnson, Tim P. (Tim) (pia113-Johnson_Tim) file(people_html/pia113-Johnson_Tim.html)\n",
      "ERROR:root:Missing Document 1970 - Kildee, Dale E. (pia112-Kildee_Dale_E) file(people_html/pia112-Kildee_Dale_E.html)\n",
      "ERROR:root:Missing Document 1987 - King, Peter Thomas (pia115-King-Peter T) file(people_html/pia115-King-Peter T.html)\n",
      "ERROR:root:Missing Document 2135 - Levin, Carl (pia113-Levin_Carl) file(people_html/pia113-Levin_Carl.html)\n",
      "ERROR:root:Missing Document 2202 - Lucas, Ken (pia108-669519) file(people_html/pia108-669519.html)\n",
      "ERROR:root:Missing Document 2319 - Matsui, Robert T. (pia108-668859) file(people_html/pia108-668859.html)\n",
      "ERROR:root:Missing Document 2339 - McCarthy, Carolyn (pia113-McCarthy_Carolyn) file(people_html/pia113-McCarthy_Carolyn.html)\n",
      "ERROR:root:Missing Document 2343 - McCarthy, Karen (pia108-669613) file(people_html/pia108-669613.html)\n",
      "ERROR:root:Missing Document 2493 - Miller, Gary G. (pia113-Miller_Gary_G.) file(people_html/pia113-Miller_Gary_G..html)\n",
      "ERROR:root:Missing Document 2494 - Miller, George (pia113-Miller_George) file(people_html/pia113-Miller_George.html)\n",
      "ERROR:root:Missing Document 2557 - Moran, James P., Jr. (Jim) (pia113-Moran_James_P.) file(people_html/pia113-Moran_James_P..html)\n",
      "ERROR:root:Missing Document 2703 - O'Halleran, Tom (pia115-OHalleran-Tom) file(people_html/pia115-OHalleran-Tom.html)\n",
      "ERROR:root:Missing Document 2720 - O'Rourke, Beto (pia115-ORourke-Beto) file(people_html/pia115-ORourke-Beto.html)\n",
      "ERROR:root:Missing Document 2772 - Payne, Donald M. (pia112-Payne_Donald_M) file(people_html/pia112-Payne_Donald_M.html)\n",
      "ERROR:root:Missing Document 3038 - Rogers, Mike (pia113-Rogers_Mike) file(people_html/pia113-Rogers_Mike.html)\n",
      "ERROR:root:Missing Document 3242 - Shalala, Donna E. (weeklyreport115-000005411405) file(people_html/weeklyreport115-000005411405.html)\n",
      "ERROR:root:Missing Document 3610 - Udall, Mark (pia113-Udall_Mark) file(people_html/pia113-Udall_Mark.html)\n",
      "ERROR:root:Missing Document 3611 - Udall, Mark (pia113-Udall_Mark) file(people_html/pia113-Udall_Mark.html)\n",
      "ERROR:root:Missing Document 3857 - Young, Charles William (Bill) (pia113-Young_C.W._Bill) file(people_html/pia113-Young_C.W._Bill.html)\n"
     ]
    }
   ],
   "source": [
    "taken_keys = set(directory[0].keys())\n",
    "parsed = []\n",
    "for i,person in enumerate(directory):\n",
    "    with open(f'people_html/{person[\"id\"]}.html') as f:\n",
    "        soup = BeautifulSoup(f.read(),'html')\n",
    "    container = soup.find('div',class_=\"docbox_horizontal\")\n",
    "    if container is None and 'document not found' in soup.text.lower():\n",
    "        logging.error(f\"Missing Document {i} - {person['name']} ({person['id']}) file(people_html/{person['id']}.html)\")\n",
    "        parsed.append(person | {'no_data': True})\n",
    "        continue\n",
    "    elif container is None:\n",
    "        print(soup)\n",
    "        break\n",
    "    data = container.find_all('span','text')[1]\n",
    "    bio = {}\n",
    "    key = None\n",
    "    value = None\n",
    "    for child in data.children:\n",
    "        if isinstance(child,bs4.element.Tag) and child.name==\"strong\":\n",
    "            title = child.text.strip().lower().replace(' ','_').replace(':','')\n",
    "        if title is not None and isinstance(child,bs4.element.NavigableString):\n",
    "            value = child.text.strip()\n",
    "            bio[key] = value\n",
    "        elif title is not None:\n",
    "            key = title\n",
    "        else:\n",
    "            print(child.name,type(child))\n",
    "    if len(set(bio.keys()) & taken_keys)==0:\n",
    "        parsed.append(person | bio)\n",
    "        #print(f\"Paresd {i} - {person['name']} ({person['id']})\")\n",
    "    else:\n",
    "        break\n",
    "    \n",
    "logging.info(f\"Sucessfully finished parsing {len(directory)} people.\")\n",
    "with open('dist/cqpress.json','w+') as f:\n",
    "    json.dump(parsed, f)"
   ]
  },
  {
   "cell_type": "code",
   "execution_count": 13,
   "metadata": {},
   "outputs": [
    {
     "name": "stdout",
     "output_type": "stream",
     "text": [
      "(3629, 17)\n"
     ]
    },
    {
     "data": {
      "text/html": [
       "<div>\n",
       "<style scoped>\n",
       "    .dataframe tbody tr th:only-of-type {\n",
       "        vertical-align: middle;\n",
       "    }\n",
       "\n",
       "    .dataframe tbody tr th {\n",
       "        vertical-align: top;\n",
       "    }\n",
       "\n",
       "    .dataframe thead th {\n",
       "        text-align: right;\n",
       "    }\n",
       "</style>\n",
       "<table border=\"1\" class=\"dataframe\">\n",
       "  <thead>\n",
       "    <tr style=\"text-align: right;\">\n",
       "      <th></th>\n",
       "      <th>id</th>\n",
       "      <th>link</th>\n",
       "      <th>name</th>\n",
       "      <th>party</th>\n",
       "      <th>state</th>\n",
       "      <th>affilication</th>\n",
       "      <th>term</th>\n",
       "      <th>born</th>\n",
       "      <th>died</th>\n",
       "      <th>religion</th>\n",
       "      <th>education</th>\n",
       "      <th>political_background</th>\n",
       "      <th>occupations</th>\n",
       "      <th>election_record</th>\n",
       "      <th>occupation</th>\n",
       "      <th>military_service</th>\n",
       "      <th>no_data</th>\n",
       "    </tr>\n",
       "  </thead>\n",
       "  <tbody>\n",
       "    <tr>\n",
       "      <th>5</th>\n",
       "      <td>bdac96-581</td>\n",
       "      <td>document.php?id=bdac96-581</td>\n",
       "      <td>Abele, Homer E.</td>\n",
       "      <td>R</td>\n",
       "      <td>Ohio</td>\n",
       "      <td>U.S. Representative</td>\n",
       "      <td>1963-1965</td>\n",
       "      <td>November 21, 1916</td>\n",
       "      <td>May 12, 2000</td>\n",
       "      <td>Not specified</td>\n",
       "      <td>Attended Ohio University, 1946–1948; LL.B. fro...</td>\n",
       "      <td>Ohio General Assembly, 1949–1952; delegate to ...</td>\n",
       "      <td>Lawyer; public service; judge</td>\n",
       "      <td>1962=52%</td>\n",
       "      <td>NaN</td>\n",
       "      <td>Air Corps 1943-1946</td>\n",
       "      <td>NaN</td>\n",
       "    </tr>\n",
       "  </tbody>\n",
       "</table>\n",
       "</div>"
      ],
      "text/plain": [
       "           id                        link             name party state  \\\n",
       "5  bdac96-581  document.php?id=bdac96-581  Abele, Homer E.     R  Ohio   \n",
       "\n",
       "          affilication       term               born          died  \\\n",
       "5  U.S. Representative  1963-1965  November 21, 1916  May 12, 2000   \n",
       "\n",
       "        religion                                          education  \\\n",
       "5  Not specified  Attended Ohio University, 1946–1948; LL.B. fro...   \n",
       "\n",
       "                                political_background  \\\n",
       "5  Ohio General Assembly, 1949–1952; delegate to ...   \n",
       "\n",
       "                     occupations election_record occupation  \\\n",
       "5  Lawyer; public service; judge        1962=52%        NaN   \n",
       "\n",
       "      military_service no_data  \n",
       "5  Air Corps 1943-1946     NaN  "
      ]
     },
     "execution_count": 13,
     "metadata": {},
     "output_type": "execute_result"
    }
   ],
   "source": [
    "df = pd.DataFrame(parsed)\n",
    "df = df.drop_duplicates(subset='id')\n",
    "print(df.shape)\n",
    "df.to_excel(\"dist/cqpress.xlsx\")\n",
    "df = df[df['military_service'].notna()]\n",
    "df = df[~df['military_service'].str.contains(\"Did not serve\") & ~df['military_service'].str.match(\";\")]\n",
    "df.head(1)"
   ]
  },
  {
   "cell_type": "code",
   "execution_count": 21,
   "metadata": {},
   "outputs": [
    {
     "data": {
      "text/plain": [
       "['Army National Guard 1971-1977',\n",
       " 'Army 1970-1971 Michigan National Guard 1990-2009',\n",
       " 'U.S. Marine Corps Reserve  1970-1975',\n",
       " 'Army 1970-1971',\n",
       " 'Army 1973-1978']"
      ]
     },
     "execution_count": 21,
     "metadata": {},
     "output_type": "execute_result"
    }
   ],
   "source": [
    "df['military_service'] = df['military_service'].str.replace(';','')\n",
    "df['military_service'].to_list()[:5]"
   ]
  },
  {
   "cell_type": "code",
   "execution_count": 15,
   "metadata": {},
   "outputs": [],
   "source": [
    "df = df.drop(['id','link','party','state','affilication','term','religion','education','political_background','occupations','election_record','occupation','no_data'],axis=1)"
   ]
  },
  {
   "cell_type": "code",
   "execution_count": 16,
   "metadata": {},
   "outputs": [
    {
     "data": {
      "text/html": [
       "<div>\n",
       "<style scoped>\n",
       "    .dataframe tbody tr th:only-of-type {\n",
       "        vertical-align: middle;\n",
       "    }\n",
       "\n",
       "    .dataframe tbody tr th {\n",
       "        vertical-align: top;\n",
       "    }\n",
       "\n",
       "    .dataframe thead th {\n",
       "        text-align: right;\n",
       "    }\n",
       "</style>\n",
       "<table border=\"1\" class=\"dataframe\">\n",
       "  <thead>\n",
       "    <tr style=\"text-align: right;\">\n",
       "      <th></th>\n",
       "      <th>name</th>\n",
       "      <th>born</th>\n",
       "      <th>died</th>\n",
       "      <th>military_service</th>\n",
       "    </tr>\n",
       "  </thead>\n",
       "  <tbody>\n",
       "    <tr>\n",
       "      <th>5</th>\n",
       "      <td>Abele, Homer E.</td>\n",
       "      <td>November 21, 1916</td>\n",
       "      <td>May 12, 2000</td>\n",
       "      <td>Air Corps 1943-1946</td>\n",
       "    </tr>\n",
       "    <tr>\n",
       "      <th>8</th>\n",
       "      <td>Abourezk, James George</td>\n",
       "      <td>February 24, 1931</td>\n",
       "      <td>NaN</td>\n",
       "      <td>Navy 1948-1952</td>\n",
       "    </tr>\n",
       "    <tr>\n",
       "      <th>10</th>\n",
       "      <td>Abraham, Ralph</td>\n",
       "      <td>September 16, 1954</td>\n",
       "      <td>NaN</td>\n",
       "      <td>Army 1986-1989</td>\n",
       "    </tr>\n",
       "    <tr>\n",
       "      <th>14</th>\n",
       "      <td>Adair, Edwin Ross</td>\n",
       "      <td>December 14, 1907</td>\n",
       "      <td>May 5, 1983</td>\n",
       "      <td>Army 1941-1945</td>\n",
       "    </tr>\n",
       "    <tr>\n",
       "      <th>16</th>\n",
       "      <td>Adams, Brockman (Brock)</td>\n",
       "      <td>January 13, 1927</td>\n",
       "      <td>September 10, 2004</td>\n",
       "      <td>Navy 1944-1946</td>\n",
       "    </tr>\n",
       "  </tbody>\n",
       "</table>\n",
       "</div>"
      ],
      "text/plain": [
       "                       name                born                died  \\\n",
       "5           Abele, Homer E.   November 21, 1916        May 12, 2000   \n",
       "8    Abourezk, James George   February 24, 1931                 NaN   \n",
       "10           Abraham, Ralph  September 16, 1954                 NaN   \n",
       "14        Adair, Edwin Ross   December 14, 1907         May 5, 1983   \n",
       "16  Adams, Brockman (Brock)    January 13, 1927  September 10, 2004   \n",
       "\n",
       "       military_service  \n",
       "5   Air Corps 1943-1946  \n",
       "8        Navy 1948-1952  \n",
       "10       Army 1986-1989  \n",
       "14       Army 1941-1945  \n",
       "16       Navy 1944-1946  "
      ]
     },
     "execution_count": 16,
     "metadata": {},
     "output_type": "execute_result"
    }
   ],
   "source": [
    "df.head()"
   ]
  },
  {
   "cell_type": "code",
   "execution_count": 17,
   "metadata": {},
   "outputs": [],
   "source": [
    "military_service = df['military_service'].str.extractall(\"(\\d{4}-\\d{4})|(\\d{4}-present)\")"
   ]
  },
  {
   "cell_type": "code",
   "execution_count": 18,
   "metadata": {},
   "outputs": [],
   "source": [
    "df['military_durations'] = military_service.groupby(level=0)[0].apply(list)\n",
    "df = df[df['military_durations'].notna()]\n",
    "df.to_excel(\"dist/military_durations.xlsx\")"
   ]
  },
  {
   "cell_type": "code",
   "execution_count": 19,
   "metadata": {},
   "outputs": [],
   "source": [
    "def has_date_in_draft(durations):\n",
    "    for duration in durations:\n",
    "        try:\n",
    "            if isinstance(duration,str) or not math.isnan(duration):\n",
    "                start,end = duration.split('-')\n",
    "                return int(start) in range(1970,1974)\n",
    "        except Exception as e:\n",
    "            print(duration)\n",
    "            raise e\n",
    "    return False"
   ]
  },
  {
   "cell_type": "code",
   "execution_count": 20,
   "metadata": {},
   "outputs": [],
   "source": [
    "df['is_during_draft'] = df['military_durations'].map(has_date_in_draft)\n",
    "df = df[df['is_during_draft']]\n",
    "df.to_excel('dist/people_during_draft.xlsx')"
   ]
  }
 ],
 "metadata": {
  "kernelspec": {
   "display_name": "Python 3.10.9 64-bit",
   "language": "python",
   "name": "python3"
  },
  "language_info": {
   "codemirror_mode": {
    "name": "ipython",
    "version": 3
   },
   "file_extension": ".py",
   "mimetype": "text/x-python",
   "name": "python",
   "nbconvert_exporter": "python",
   "pygments_lexer": "ipython3",
   "version": "3.10.9"
  },
  "orig_nbformat": 4,
  "vscode": {
   "interpreter": {
    "hash": "e7370f93d1d0cde622a1f8e1c04877d8463912d04d973331ad4851f04de6915a"
   }
  }
 },
 "nbformat": 4,
 "nbformat_minor": 2
}
